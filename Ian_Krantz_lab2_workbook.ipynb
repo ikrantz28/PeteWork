{
 "cells": [
  {
   "cell_type": "markdown",
   "metadata": {
    "colab_type": "text",
    "id": "u1YDPNtbdHDj"
   },
   "source": [
    "\n",
    " #  Python Data Types\n",
    "\n",
    "## PETE 2061 Lab 2 Workbook \n",
    "\n",
    "## THIS IS DUE BY 10:20 AM TODAY\n",
    "\n",
    "<a id='top'></a>"
   ]
  },
  {
   "cell_type": "markdown",
   "metadata": {
    "colab_type": "text",
    "id": "krWd44XodHDp"
   },
   "source": [
    "<a id='variables'></a>\n",
    "## Decline Curve Analysis\n",
    "Wells A, B, and C flow with an initial flow rate ($q_i$) of 4,000 bopd (barrels of oil per day), and have a continuous initial decline rate ($D_i$) of 15% per year. Well A declines exponentially, while well B declines hyperbolically, with a b-exponent of 0.5, and well C declines harmonically (this means that b = 1). <br><br>"
   ]
  },
  {
   "cell_type": "markdown",
   "metadata": {},
   "source": [
    "Step 1. Import the math library (so that the exponential function is available). <br>"
   ]
  },
  {
   "cell_type": "code",
   "execution_count": 53,
   "metadata": {},
   "outputs": [],
   "source": [
    "import math\n"
   ]
  },
  {
   "cell_type": "markdown",
   "metadata": {},
   "source": [
    "Step 2. Create variables named q_i, D_i and b, and assign them to the given initial flow rate, initial decline rate, and hyperbolic b-exponent of 0.5, respectively. <br>"
   ]
  },
  {
   "cell_type": "code",
   "execution_count": 54,
   "metadata": {},
   "outputs": [],
   "source": [
    "q_i=4000\n",
    "D_i=0.15\n",
    "b=(0.5)"
   ]
  },
  {
   "cell_type": "markdown",
   "metadata": {},
   "source": [
    "Step 3. Using the list() and range() functions, create a list named t, and use it to store time in years; starting from 0 to 3 years, and in increments of 1 year. The first item in list t will be 0, and the last item will be 3.<br>"
   ]
  },
  {
   "cell_type": "code",
   "execution_count": 55,
   "metadata": {},
   "outputs": [
    {
     "name": "stdout",
     "output_type": "stream",
     "text": [
      "[0, 1, 2, 3]\n"
     ]
    }
   ],
   "source": [
    "tRange=range(0,4,1)\n",
    "t=list(tRange)\n",
    "print(t)"
   ]
  },
  {
   "cell_type": "markdown",
   "metadata": {},
   "source": [
    "Step 4. Create a list named q_A, and fill it with four zeros. <br>"
   ]
  },
  {
   "cell_type": "code",
   "execution_count": 56,
   "metadata": {},
   "outputs": [],
   "source": [
    "q_A=[0,0,0,0]"
   ]
  },
  {
   "cell_type": "markdown",
   "metadata": {},
   "source": [
    "Step 5. Also create lists named q_B and q_C and let them store four zeros each. Note that q_A, q_B and q_C correspond to the flow rates of wells A, B and C, respectively. <br>"
   ]
  },
  {
   "cell_type": "code",
   "execution_count": 57,
   "metadata": {},
   "outputs": [],
   "source": [
    "q_B=[0,0,0,0]\n",
    "q_C=[0,0,0,0]"
   ]
  },
  {
   "cell_type": "markdown",
   "metadata": {},
   "source": [
    "Step 6. Using the appropriate equation for well A, \n",
    "    (a) compute the oil rate at a time of 0 years, and store it in the first index of the list, q_A. Double-check that your result for this is equal to the initial flow rate.\n",
    "    (b) compute the oil rate after 1 year and store it in the second index of the list, q_A.\n",
    "    (c) compute the oil rate after 2 years and store it in the third index of the list, q_A.\n",
    "    (d) compute the oil rate after 3 years and store it in the fourth index of the list, q_A. <br>"
   ]
  },
  {
   "cell_type": "code",
   "execution_count": 58,
   "metadata": {},
   "outputs": [],
   "source": [
    "q0=q_i*math.exp(-D_i*0)\n",
    "q_A[0]=q0\n",
    "q1=q_i*math.exp(-D_i*1)\n",
    "q_A[1]=q1\n",
    "q2=q_i*math.exp(-D_i*2)\n",
    "q_A[2]=q2\n",
    "q3=q_i*math.exp(-D_i*3)\n",
    "q_A[3]=q3"
   ]
  },
  {
   "cell_type": "markdown",
   "metadata": {},
   "source": [
    "Step 7. Print out list q_A. <br>"
   ]
  },
  {
   "cell_type": "code",
   "execution_count": 59,
   "metadata": {},
   "outputs": [
    {
     "name": "stdout",
     "output_type": "stream",
     "text": [
      "Well A=[4000.0, 3442.8319057002313, 2963.2728827268716, 2550.5126064870933]\n"
     ]
    }
   ],
   "source": [
    "print(f\"Well A={q_A}\")"
   ]
  },
  {
   "cell_type": "markdown",
   "metadata": {},
   "source": [
    "Step 8. Using the appropriate equation for wells B and C, compute and store the corresponding four rates in q_B and q_C. This is similar to the steps in 6 (a) through (d), but with the hyperbolic and harmonic decline curve equations, respectively. <br>"
   ]
  },
  {
   "cell_type": "code",
   "execution_count": 60,
   "metadata": {},
   "outputs": [],
   "source": [
    "b0=(q_i/((1+b*D_i*0)**(1/b)))\n",
    "q_B[0]=b0\n",
    "b1=(q_i/((1+b*D_i*1)**(1/b)))\n",
    "q_B[1]=b1\n",
    "b2=(q_i/((1+b*D_i*2)**(1/b)))\n",
    "q_B[2]=b2\n",
    "b3=(q_i/((1+b*D_i*3)**(1/b)))\n",
    "q_B[3]=b3\n",
    "c0=q_i/(1+D_i*0)\n",
    "q_C[0]=c0\n",
    "c1=q_i/(1+D_i*1)\n",
    "q_C[1]=c1\n",
    "c2=q_i/(1+D_i*2)\n",
    "q_C[2]=c2\n",
    "c3=q_i/(1+D_i*3)\n",
    "q_C[3]=c3"
   ]
  },
  {
   "cell_type": "markdown",
   "metadata": {},
   "source": [
    "Step 9. Print out lists q_B and q_C <br>"
   ]
  },
  {
   "cell_type": "code",
   "execution_count": 61,
   "metadata": {},
   "outputs": [
    {
     "name": "stdout",
     "output_type": "stream",
     "text": [
      "Well B=[4000.0, 3461.3304488912927, 3024.574669187146, 2665.556018325697]\n",
      "Well C=[4000.0, 3478.2608695652175, 3076.9230769230767, 2758.6206896551726]\n"
     ]
    }
   ],
   "source": [
    "print(f\"Well B={q_B}\")\n",
    "print(f\"Well C={q_C}\")"
   ]
  },
  {
   "cell_type": "markdown",
   "metadata": {},
   "source": [
    "Step 10. Using all that you have learned so far, compute the corresponding cumulative production (Q_A, Q_B and Q_C) using the analytical expressions in your lecture notes. Print out the four items in each of these three lists. <br>"
   ]
  },
  {
   "cell_type": "code",
   "execution_count": 62,
   "metadata": {},
   "outputs": [
    {
     "name": "stdout",
     "output_type": "stream",
     "text": [
      "Well A Total=12956.617394914196\n",
      "Well B Total=13151.461136404136\n",
      "Well C Total=13313.804636143466\n"
     ]
    }
   ],
   "source": [
    "Atotal=q_A[0]+q_A[1]+q_A[2]+q_A[3]\n",
    "print(f\"Well A Total={Atotal}\")\n",
    "Btotal=q_B[0]+q_B[1]+q_B[2]+q_B[3]\n",
    "print(f\"Well B Total={Btotal}\")\n",
    "Ctotal=q_C[0]+q_C[1]+q_C[2]+q_C[3]\n",
    "print(f\"Well C Total={Ctotal}\")"
   ]
  },
  {
   "cell_type": "markdown",
   "metadata": {},
   "source": [
    "Step 11. Using the Trapezoidal rule for well A, compute the volume of oil (in barrels) produced between:\n",
    "    (a) time = 0 and time = 1 year\n",
    "    (b) time = 1 and time = 2 years\n",
    "    (c) time = 2 and time = 3 years. <br>"
   ]
  },
  {
   "cell_type": "code",
   "execution_count": 63,
   "metadata": {},
   "outputs": [],
   "source": [
    "aVola=(1/2)*((q_i*math.exp(-D_i*0))+(q_i*math.exp(-D_i*1)))\n",
    "aVolb=(1/2)*((q_i*math.exp(-D_i*1))+(q_i*math.exp(-D_i*2)))\n",
    "aVolc=(1/2)*((q_i*math.exp(-D_i*2))+(q_i*math.exp(-D_i*3)))\n",
    "aVol=aVola+aVolb+aVolc"
   ]
  },
  {
   "cell_type": "markdown",
   "metadata": {},
   "source": [
    "Step 12. Add up the three results from 11(a), (b) and (c) to obtain the cumulative production for well A after 3 years. <br>"
   ]
  },
  {
   "cell_type": "code",
   "execution_count": 64,
   "metadata": {},
   "outputs": [
    {
     "name": "stdout",
     "output_type": "stream",
     "text": [
      "Well A Cumlative Prodcution=9681.36109167065\n"
     ]
    }
   ],
   "source": [
    "print(f\"Well A Cumlative Prodcution={aVol}\")"
   ]
  },
  {
   "cell_type": "markdown",
   "metadata": {},
   "source": [
    "Step 13. Compare the result from Step 12 (a numerical integration) to the result stored in the last item in list Q_A (an exact integration). Compute the relative error (in %) of the numerical integration. <br>"
   ]
  },
  {
   "cell_type": "code",
   "execution_count": 73,
   "metadata": {},
   "outputs": [
    {
     "name": "stdout",
     "output_type": "stream",
     "text": [
      "relative error = 25.2786\n"
     ]
    }
   ],
   "source": [
    "Et=Atotal-aVol\n",
    "E_rel=Et/Atotal\n",
    "E_rela=(E_rel*100)\n",
    "E_r=\"relative error = %.4f\" %(E_rela)\n",
    "print(E_r)"
   ]
  },
  {
   "cell_type": "code",
   "execution_count": null,
   "metadata": {},
   "outputs": [],
   "source": []
  }
 ],
 "metadata": {
  "colab": {
   "collapsed_sections": [
    "sYQs3O-6dHFb",
    "8sIJ4A57dHFk",
    "_73RPOcBdHFn",
    "h9s2tfPcdHFo",
    "zt4YHVYPdHGR"
   ],
   "include_colab_link": true,
   "name": "Copy of intro-python-colab.ipynb",
   "provenance": [],
   "version": "0.3.2"
  },
  "kernelspec": {
   "display_name": "Python 3",
   "language": "python",
   "name": "python3"
  },
  "language_info": {
   "codemirror_mode": {
    "name": "ipython",
    "version": 3
   },
   "file_extension": ".py",
   "mimetype": "text/x-python",
   "name": "python",
   "nbconvert_exporter": "python",
   "pygments_lexer": "ipython3",
   "version": "3.8.8"
  }
 },
 "nbformat": 4,
 "nbformat_minor": 1
}
